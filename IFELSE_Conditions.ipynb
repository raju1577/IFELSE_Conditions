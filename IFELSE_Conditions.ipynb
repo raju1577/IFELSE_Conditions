{
 "cells": [
  {
   "cell_type": "markdown",
   "id": "a1a04d90-8781-478f-8616-d43522931136",
   "metadata": {},
   "source": [
    "Program To understand the conditions of the computer, we have some special keywords.\n",
    "If\n",
    "IF ELSE\n",
    "IF ELIF ELSE\n",
    "NESTED IF"
   ]
  },
  {
   "cell_type": "code",
   "execution_count": 2,
   "id": "dfffc1bd-ba31-4423-85a9-63c83af44b12",
   "metadata": {},
   "outputs": [
    {
     "name": "stdout",
     "output_type": "stream",
     "text": [
      "Data Science\n"
     ]
    }
   ],
   "source": [
    "if True: # indentiation is always 4 spaces\n",
    "    print('Data Science')"
   ]
  },
  {
   "cell_type": "code",
   "execution_count": 4,
   "id": "a60b410e-f518-408b-9b9b-e7f266f67e9c",
   "metadata": {},
   "outputs": [
    {
     "name": "stdout",
     "output_type": "stream",
     "text": [
      "bye for now\n"
     ]
    }
   ],
   "source": [
    "if False:\n",
    "    print('Data Science')\n",
    "print('bye for now')"
   ]
  },
  {
   "cell_type": "code",
   "execution_count": 8,
   "id": "519956d4-96f5-4c80-b673-4252c7447528",
   "metadata": {},
   "outputs": [
    {
     "name": "stdout",
     "output_type": "stream",
     "text": [
      "Data Science\n",
      "bye for now\n"
     ]
    }
   ],
   "source": [
    "if True: # indentiation is always 4 spaces - both print will be output.\n",
    "    print('Data Science')\n",
    "print('bye for now')"
   ]
  },
  {
   "cell_type": "markdown",
   "id": "72cebbfd-d19e-47ee-8257-f84cbd51772d",
   "metadata": {},
   "source": [
    "Lets do one program as if number divide by 2 then reminder is 0 then it is even number, if reminder is not 0 then it is odd number."
   ]
  },
  {
   "cell_type": "code",
   "execution_count": 11,
   "id": "31d15b65-e7cf-4be7-b953-dced79bb3755",
   "metadata": {},
   "outputs": [
    {
     "name": "stdout",
     "output_type": "stream",
     "text": [
      "Even number\n"
     ]
    }
   ],
   "source": [
    "#to print only even number\n",
    "\n",
    "x = 14\n",
    "r = x % 2 \n",
    "\n",
    "if r == 0:\n",
    "    print('Even number')\n",
    "\n",
    "if r == 1:\n",
    "    print('Odd Number')"
   ]
  },
  {
   "cell_type": "code",
   "execution_count": 25,
   "id": "209a5651-d196-4a13-9f7c-4626971c5aca",
   "metadata": {},
   "outputs": [
    {
     "name": "stdout",
     "output_type": "stream",
     "text": [
      "Even number\n"
     ]
    }
   ],
   "source": [
    "#to print only even number\n",
    "\n",
    "x = 14\n",
    "r = x % 2 \n",
    "\n",
    "if r == 0:\n",
    "    print('Even number')\n",
    "else:\n",
    "    print('Odd Number')"
   ]
  },
  {
   "cell_type": "code",
   "execution_count": 27,
   "id": "61311044-cfee-47c1-a10b-e815a8478bf9",
   "metadata": {},
   "outputs": [],
   "source": [
    "#to print only even number\n",
    "x = 11\n",
    "r = x % 2 \n",
    "\n",
    "if r == 0:\n",
    "    print('Even number')    "
   ]
  },
  {
   "cell_type": "code",
   "execution_count": 17,
   "id": "193d8a14-ad06-4795-85dc-c6a2b46e9008",
   "metadata": {},
   "outputs": [
    {
     "name": "stdout",
     "output_type": "stream",
     "text": [
      "odd number\n"
     ]
    }
   ],
   "source": [
    "x = 5\n",
    "r = x % 2 \n",
    "\n",
    "if r == 0:\n",
    "    print('Even number')\n",
    "print('odd number')"
   ]
  },
  {
   "cell_type": "code",
   "execution_count": 29,
   "id": "20234828-c746-4a04-ba6e-2af4a00feecc",
   "metadata": {},
   "outputs": [
    {
     "name": "stdout",
     "output_type": "stream",
     "text": [
      "Even number\n",
      "odd number\n"
     ]
    }
   ],
   "source": [
    "x = 8 #both print will be output\n",
    "r = x % 2 \n",
    "\n",
    "if r == 0:\n",
    "    print('Even number')\n",
    "print('odd number')"
   ]
  },
  {
   "cell_type": "code",
   "execution_count": 21,
   "id": "300c176a-64eb-488b-8bb5-a76ebd80f418",
   "metadata": {},
   "outputs": [
    {
     "name": "stdout",
     "output_type": "stream",
     "text": [
      "Even number\n"
     ]
    }
   ],
   "source": [
    "x = 8\n",
    "r = x % 2 \n",
    "\n",
    "if r == 0:\n",
    "    print('Even number')\n",
    "if r == 1:\n",
    "    print('odd number')"
   ]
  },
  {
   "cell_type": "code",
   "execution_count": 23,
   "id": "2244ed44-2589-4bf2-a451-6705f534e27e",
   "metadata": {},
   "outputs": [
    {
     "name": "stdout",
     "output_type": "stream",
     "text": [
      "odd number\n"
     ]
    }
   ],
   "source": [
    "x = 7\n",
    "r = x % 2 \n",
    "\n",
    "if r == 0:\n",
    "    print('Even number')\n",
    "if r == 1:\n",
    "    print('odd number')"
   ]
  },
  {
   "cell_type": "code",
   "execution_count": 31,
   "id": "3d821733-29f8-4f97-ace4-38f8eee0ddbd",
   "metadata": {},
   "outputs": [
    {
     "name": "stdout",
     "output_type": "stream",
     "text": [
      "odd number\n"
     ]
    }
   ],
   "source": [
    "x = 13\n",
    "r = x % 2 \n",
    "\n",
    "if r == 0:\n",
    "    print('Even number')\n",
    "    \n",
    "if r != 0:\n",
    "    print('odd number')"
   ]
  },
  {
   "cell_type": "markdown",
   "id": "ca05b31c-5695-4ab7-abba-f469a68e5378",
   "metadata": {},
   "source": [
    "if we observe the code its too many line cuz many of the coder always they wanted to reduce the code lenght which is very good practise. instead of 2 if we can use if-- else "
   ]
  },
  {
   "cell_type": "code",
   "execution_count": 34,
   "id": "f088f697-48a4-436f-ac9b-88821cac3006",
   "metadata": {},
   "outputs": [
    {
     "name": "stdout",
     "output_type": "stream",
     "text": [
      " Even number\n"
     ]
    }
   ],
   "source": [
    "x = 2\n",
    "r = x % 2\n",
    "\n",
    "if r == 0:\n",
    "    print( ' Even number')\n",
    "else:\n",
    "    print('Odd Number')"
   ]
  },
  {
   "cell_type": "code",
   "execution_count": 36,
   "id": "ec232ac7-37c2-4a44-af3b-d14df88a1dd4",
   "metadata": {},
   "outputs": [
    {
     "name": "stdout",
     "output_type": "stream",
     "text": [
      "Odd Number\n"
     ]
    }
   ],
   "source": [
    "x = 3\n",
    "r = x % 2\n",
    "\n",
    "if r == 0:\n",
    "    print('Even number')\n",
    "    if x>5:\n",
    "        print('greater number')\n",
    "else:\n",
    "    print('Odd Number')"
   ]
  },
  {
   "cell_type": "code",
   "execution_count": 38,
   "id": "a03f41af-d2d0-4944-8b72-f3d15400c907",
   "metadata": {},
   "outputs": [
    {
     "name": "stdout",
     "output_type": "stream",
     "text": [
      "Even number\n"
     ]
    }
   ],
   "source": [
    "x = 4\n",
    "r = x % 2\n",
    "\n",
    "if r == 0:\n",
    "    print('Even number')\n",
    "    if x>5:\n",
    "        print('greater number')\n",
    "else:\n",
    "    print('Odd Number')"
   ]
  },
  {
   "cell_type": "markdown",
   "id": "966e1667-e5e1-4b81-af5d-1d7b091ac827",
   "metadata": {},
   "source": [
    "NESTED IF (if we have 2 condition so we need to implment with nested if )"
   ]
  },
  {
   "cell_type": "code",
   "execution_count": 41,
   "id": "586471ce-cd77-4477-93b9-0a9da7365f67",
   "metadata": {},
   "outputs": [
    {
     "name": "stdout",
     "output_type": "stream",
     "text": [
      "Even number\n",
      "greater number\n"
     ]
    }
   ],
   "source": [
    "x = 6\n",
    "r = x % 2\n",
    "if r == 0:\n",
    "    print('Even number')\n",
    "    if x>5:\n",
    "        print('greater number')\n",
    "    else:\n",
    "        print('not greater')\n",
    "else:\n",
    "    print('Odd Number')    "
   ]
  },
  {
   "cell_type": "code",
   "execution_count": 43,
   "id": "9dfd790c-b329-49db-aecd-129cbe76ca4b",
   "metadata": {},
   "outputs": [
    {
     "name": "stdout",
     "output_type": "stream",
     "text": [
      "Even number\n",
      "not greater\n"
     ]
    }
   ],
   "source": [
    "x = 2\n",
    "r = x % 2\n",
    "\n",
    "if r == 0:\n",
    "    print('Even number')\n",
    "    if x>5:\n",
    "        print('greater number')\n",
    "    else:\n",
    "        print('not greater')\n",
    "else:\n",
    "    print('Odd Number')  "
   ]
  },
  {
   "cell_type": "markdown",
   "id": "3d8e9149-1d15-43aa-91fb-389d8820cfa6",
   "metadata": {},
   "source": [
    "We do have concept of ( IF - ELIF- ELSE) \n",
    "e.g i want to print ( 1--> one , 2 --> two, 3--> three, 4--> four, 5- five)"
   ]
  },
  {
   "cell_type": "code",
   "execution_count": 46,
   "id": "8b0ce509-4ceb-4b03-b7da-6a42bd0339ed",
   "metadata": {},
   "outputs": [
    {
     "name": "stdout",
     "output_type": "stream",
     "text": [
      "one\n"
     ]
    }
   ],
   "source": [
    "#when you use if it will check all condition but if we mention as elif then it wont check all condition\n",
    "x = 1\n",
    "\n",
    "if(x == 1):\n",
    "    print('one')\n",
    "if(x == 2):\n",
    "    print('Two')\n",
    "if(x == 3):\n",
    "    print('Three')\n",
    "if(x == 4):\n",
    "    print('four')"
   ]
  },
  {
   "cell_type": "code",
   "execution_count": 48,
   "id": "81c01b4a-9f7b-480e-b60c-470d6c92548b",
   "metadata": {},
   "outputs": [
    {
     "name": "stdout",
     "output_type": "stream",
     "text": [
      "Two\n"
     ]
    }
   ],
   "source": [
    "x = 2\n",
    "\n",
    "if(x == 1):\n",
    "    print('one')\n",
    "elif(x == 2):\n",
    "    print('Two')\n",
    "elif(x == 3):\n",
    "    print('Three')\n",
    "elif(x == 4):\n",
    "    print('four')"
   ]
  },
  {
   "cell_type": "code",
   "execution_count": 50,
   "id": "d3c15907-a880-4901-9073-d2998f2f44ff",
   "metadata": {},
   "outputs": [],
   "source": [
    "x = 5\n",
    "\n",
    "if(x == 1):\n",
    "    print('one')\n",
    "elif(x == 2):\n",
    "    print('Two')\n",
    "elif(x == 3):\n",
    "    print('Three')\n",
    "elif(x == 4):\n",
    "    print('four')"
   ]
  },
  {
   "cell_type": "code",
   "execution_count": 52,
   "id": "4340f532-64a1-40c0-a84e-9fa2392e6818",
   "metadata": {},
   "outputs": [
    {
     "name": "stdout",
     "output_type": "stream",
     "text": [
      "wrong output\n"
     ]
    }
   ],
   "source": [
    "x = 5\n",
    "\n",
    "if(x == 1):\n",
    "    print('one')\n",
    "elif(x == 2):\n",
    "    print('Two')\n",
    "elif(x == 3):\n",
    "    print('Three')\n",
    "elif(x == 4):\n",
    "    print('four')\n",
    "else:\n",
    "    print('wrong output')\n"
   ]
  },
  {
   "cell_type": "code",
   "execution_count": 54,
   "id": "5017ee60-54be-48dd-8ae9-e3fc040b08cc",
   "metadata": {},
   "outputs": [
    {
     "name": "stdout",
     "output_type": "stream",
     "text": [
      "wrong output\n"
     ]
    }
   ],
   "source": [
    "x = 15\n",
    "\n",
    "if(x == 1):\n",
    "    print('one')\n",
    "elif(x == 2):\n",
    "    print('Two')\n",
    "elif(x == 3):\n",
    "    print('Three')\n",
    "elif(x == 4):\n",
    "    print('four')\n",
    "   \n",
    "else:\n",
    "    print('wrong output')"
   ]
  },
  {
   "cell_type": "code",
   "execution_count": 56,
   "id": "7cc9a1ca-6166-4042-b4f4-1270fe2acbec",
   "metadata": {},
   "outputs": [
    {
     "name": "stdout",
     "output_type": "stream",
     "text": [
      "data science\n"
     ]
    }
   ],
   "source": [
    "print('data science')"
   ]
  },
  {
   "cell_type": "markdown",
   "id": "8f8781b6-bb4a-4f75-b4fb-02fefe70baff",
   "metadata": {},
   "source": [
    "LOOPS -- in programing world some time we keep on repeating , may be you want to repeat 5 statement so one way is copy & paste multiple times or other way is. if you want to print the datascience 10 times then what you will you cant copy for 10 times , if you want to print 1000 times then you cant do manualy . \n",
    "that is the reason why we need to apply loop ->\n",
    "2 type of loops --  While loop & For loop"
   ]
  },
  {
   "cell_type": "code",
   "execution_count": 59,
   "id": "a9538da8-0f72-49c3-a3c5-4f458f66dba9",
   "metadata": {},
   "outputs": [
    {
     "name": "stdout",
     "output_type": "stream",
     "text": [
      "data science\n",
      "data science\n",
      "data science\n",
      "data science\n",
      "data science\n"
     ]
    }
   ],
   "source": [
    "i = 1          # initializing\n",
    "while i<=5:    # condition\n",
    "    print('data science')\n",
    "    i = i + 1  # increment"
   ]
  },
  {
   "cell_type": "code",
   "execution_count": 61,
   "id": "7d74f69e-0a52-4269-aa52-d59a8f62c4dd",
   "metadata": {},
   "outputs": [
    {
     "name": "stdout",
     "output_type": "stream",
     "text": [
      "data science\n",
      "data science\n",
      "data science\n",
      "data science\n",
      "data science\n"
     ]
    }
   ],
   "source": [
    "i = 5          # initializing\n",
    "while i>=1:    # condition\n",
    "    print('data science')\n",
    "    i = i - 1  # decrement"
   ]
  },
  {
   "cell_type": "code",
   "execution_count": 63,
   "id": "9bb4be94-8e24-4fd0-a4f7-bccd90b79599",
   "metadata": {},
   "outputs": [
    {
     "name": "stdout",
     "output_type": "stream",
     "text": [
      "data science : 1\n",
      "data science : 2\n",
      "data science : 3\n",
      "data science : 4\n",
      "data science : 5\n"
     ]
    }
   ],
   "source": [
    "i = 1          # initializing\n",
    "while i<=5:    # condition\n",
    "    print('data science',':',i)\n",
    "    i = i + 1  # increment"
   ]
  },
  {
   "cell_type": "code",
   "execution_count": 65,
   "id": "5491128a-f7ee-4d0a-9bee-0df2d342afcf",
   "metadata": {},
   "outputs": [
    {
     "name": "stdout",
     "output_type": "stream",
     "text": [
      "data science : 5\n",
      "data science : 4\n",
      "data science : 3\n",
      "data science : 2\n",
      "data science : 1\n"
     ]
    }
   ],
   "source": [
    "i = 5          # initializing\n",
    "while i>=1:    # condition\n",
    "    print('data science',':',i)\n",
    "    i = i - 1  # decrement"
   ]
  },
  {
   "cell_type": "markdown",
   "id": "58eaa3c4-f158-405f-bfe7-66eddb070fcf",
   "metadata": {},
   "source": [
    "can we use multiple while loop || nested while loop \n",
    "to understand nested whild indepth understand you can use pycharm debug with f8 option"
   ]
  },
  {
   "cell_type": "code",
   "execution_count": 72,
   "id": "296ff218-d3fd-49e5-8b3b-2e69d9f1c7fc",
   "metadata": {},
   "outputs": [
    {
     "name": "stdout",
     "output_type": "stream",
     "text": [
      " data science\n",
      " technology\n",
      " technology\n",
      " technology\n",
      " technology\n",
      "\n",
      " data science\n",
      " technology\n",
      " technology\n",
      " technology\n",
      " technology\n",
      "\n",
      " data science\n",
      " technology\n",
      " technology\n",
      " technology\n",
      " technology\n",
      "\n",
      " data science\n",
      " technology\n",
      " technology\n",
      " technology\n",
      " technology\n",
      "\n",
      " data science\n",
      " technology\n",
      " technology\n",
      " technology\n",
      " technology\n",
      "\n"
     ]
    }
   ],
   "source": [
    "i = 1\n",
    "\n",
    "while i<=5:\n",
    "    print(' data science') # when we mention end then new line will not create\n",
    "    j = 1\n",
    "    while j<=4:\n",
    "        print(' technology')\n",
    "        j = j + 1\n",
    "        \n",
    "    i = i + 1\n",
    "    print()"
   ]
  },
  {
   "cell_type": "code",
   "execution_count": 74,
   "id": "f2089343-a0f1-4b64-8cc2-77333d5f1637",
   "metadata": {},
   "outputs": [
    {
     "name": "stdout",
     "output_type": "stream",
     "text": [
      " data science technology technology technology technology\n",
      " data science technology technology technology technology\n",
      " data science technology technology technology technology\n",
      " data science technology technology technology technology\n",
      " data science technology technology technology technology\n"
     ]
    }
   ],
   "source": [
    "i = 1\n",
    "while i<=5:\n",
    "    print(' data science', end = \"\") # when we mention end then new line will not create\n",
    "    j = 1\n",
    "    while j<=4:\n",
    "        print(' technology', end=\"\")\n",
    "        j = j + 1\n",
    "        \n",
    "    i = i + 1\n",
    "    print()"
   ]
  },
  {
   "cell_type": "code",
   "execution_count": 76,
   "id": "36c2ea48-1e79-40ed-b20b-779711499f94",
   "metadata": {},
   "outputs": [
    {
     "name": "stdout",
     "output_type": "stream",
     "text": [
      " data science  * technology  * technology  * technology  * technology  *\n",
      " data science  * technology  * technology  * technology  * technology  *\n",
      " data science  * technology  * technology  * technology  * technology  *\n",
      " data science  * technology  * technology  * technology  * technology  *\n",
      " data science  * technology  * technology  * technology  * technology  *\n"
     ]
    }
   ],
   "source": [
    "i = 1\n",
    "while i<=5:\n",
    "    print(' data science', end = \"  *\") # when we mention end then new line will not create\n",
    "    j = 1\n",
    "    while j<=4:\n",
    "        print(' technology', end=\"  *\")\n",
    "        j = j + 1\n",
    "        \n",
    "    i = i + 1\n",
    "    print()"
   ]
  },
  {
   "cell_type": "code",
   "execution_count": 78,
   "id": "a14fa53f-d95b-4379-a1bc-1b70506aa233",
   "metadata": {},
   "outputs": [
    {
     "name": "stdout",
     "output_type": "stream",
     "text": [
      "0 1 2 3 \n",
      "0 2 4 6 \n",
      "0 3 6 9 \n",
      "0 4 8 12 \n"
     ]
    }
   ],
   "source": [
    "i = 1\n",
    "while i <= 4 :\n",
    "    j = 0\n",
    "    while  j <= 3 :\n",
    "        print(i*j, end=\" \")\n",
    "        j += 1\n",
    "    print()\n",
    "    i += 1"
   ]
  },
  {
   "cell_type": "markdown",
   "id": "356dfec3-e3a1-41b9-95df-624663764349",
   "metadata": {},
   "source": [
    "FOR LOOP  -\r\n",
    "normally while loop it work with condition but for loop it will work with sequence (list, string,int)\r\n"
   ]
  },
  {
   "cell_type": "code",
   "execution_count": 81,
   "id": "a47e95a4-8c9f-4e56-9c4f-d52f5dd9bc92",
   "metadata": {},
   "outputs": [
    {
     "name": "stdout",
     "output_type": "stream",
     "text": [
      "n\n",
      "i\n",
      "t\n"
     ]
    }
   ],
   "source": [
    "name = 'nit'\n",
    "for i in name:\n",
    "    print(i)"
   ]
  },
  {
   "cell_type": "code",
   "execution_count": 83,
   "id": "d71a2d98-a77a-459e-aac2-ccea37edcfef",
   "metadata": {},
   "outputs": [
    {
     "name": "stdout",
     "output_type": "stream",
     "text": [
      "1\n",
      "3.5\n",
      "hallo\n"
     ]
    }
   ],
   "source": [
    "name1 = [1,3.5,'hallo']\n",
    "\n",
    "for i in name1:\n",
    "    print(i)"
   ]
  },
  {
   "cell_type": "code",
   "execution_count": 85,
   "id": "3811ab9c-c387-49ea-a28f-16a1f1782ba4",
   "metadata": {},
   "outputs": [
    {
     "name": "stdout",
     "output_type": "stream",
     "text": [
      "2\n",
      "3\n",
      "7.8\n",
      "hi\n"
     ]
    }
   ],
   "source": [
    "for i in [2, 3, 7.8, 'hi']:\n",
    "    print(i)"
   ]
  },
  {
   "cell_type": "code",
   "execution_count": 87,
   "id": "8277c3c6-86fa-4a76-9b7c-392da31dab2c",
   "metadata": {},
   "outputs": [
    {
     "name": "stdout",
     "output_type": "stream",
     "text": [
      "0\n",
      "1\n",
      "2\n",
      "3\n",
      "4\n"
     ]
    }
   ],
   "source": [
    "for i in range(5):\n",
    "    print(i)"
   ]
  },
  {
   "cell_type": "code",
   "execution_count": 89,
   "id": "c84a8350-f544-4cf4-a11e-ff8e54b41324",
   "metadata": {},
   "outputs": [
    {
     "name": "stdout",
     "output_type": "stream",
     "text": [
      "1\n",
      "2\n",
      "3\n",
      "4\n"
     ]
    }
   ],
   "source": [
    "for i in range(1,5):\n",
    "    print(i)"
   ]
  },
  {
   "cell_type": "code",
   "execution_count": 91,
   "id": "ec056011-fffb-4c53-8fd7-ad878861dc43",
   "metadata": {},
   "outputs": [
    {
     "name": "stdout",
     "output_type": "stream",
     "text": [
      "1\n",
      "4\n",
      "7\n"
     ]
    }
   ],
   "source": [
    "for i in range(1,10,3):\n",
    "    print(i)"
   ]
  },
  {
   "cell_type": "code",
   "execution_count": 93,
   "id": "32321cb0-a90f-4ccc-9b7f-79aae9a12e0b",
   "metadata": {},
   "outputs": [
    {
     "name": "stdout",
     "output_type": "stream",
     "text": [
      "1\n",
      "2\n",
      "3\n",
      "4\n",
      "6\n",
      "7\n",
      "8\n",
      "9\n"
     ]
    }
   ],
   "source": [
    "# print the numer which is not divisible by 5\n",
    "\n",
    "for i in range(1,11):\n",
    "    \n",
    "    if i%5 != 0 :\n",
    "      print(i)"
   ]
  },
  {
   "cell_type": "code",
   "execution_count": 99,
   "id": "664f628e-6d60-4371-8d08-e13d94609d9d",
   "metadata": {},
   "outputs": [
    {
     "name": "stdout",
     "output_type": "stream",
     "text": [
      "5\n",
      "10\n",
      "15\n",
      "20\n",
      "25\n",
      "30\n",
      "35\n",
      "40\n",
      "45\n",
      "50\n"
     ]
    }
   ],
   "source": [
    "# can you write the python code for 5 multiplication table \n",
    "\n",
    "for i in range(1,51):\n",
    "    \n",
    "    if i%5 == 0:\n",
    "      print(i)"
   ]
  },
  {
   "cell_type": "markdown",
   "id": "416277f3-7d2c-4be5-939d-50baa43f0e10",
   "metadata": {},
   "source": [
    "# LETS DISCUSS ABOUT 3 KEYWORDS -- BREAK || CONTINUE || PASS\r\n",
    "BREAK STATEMNT - if you apply break statment in a loop then it will end the loop\r\n",
    "# Pass = skips block of code( function, class etc)\r\n",
    "# Continue= skips 1 step/iteration during loop \r\n",
    "# Break= jumps out of the function/loop"
   ]
  },
  {
   "cell_type": "code",
   "execution_count": 102,
   "id": "0c80e991-a77f-4c18-8a80-e99571a32315",
   "metadata": {},
   "outputs": [
    {
     "name": "stdout",
     "output_type": "stream",
     "text": [
      "1\n",
      "2\n",
      "3\n",
      "4\n",
      "5\n",
      "6\n",
      "7\n",
      "8\n",
      "9\n",
      "10\n"
     ]
    }
   ],
   "source": [
    "for i in range(1,11):\n",
    "    print(i)    "
   ]
  },
  {
   "cell_type": "code",
   "execution_count": 106,
   "id": "e09c96de-78b4-4b30-9f85-fb11eeb2c1e7",
   "metadata": {},
   "outputs": [],
   "source": [
    "for i in range(1,11):\n",
    "    if i == 5:\n",
    "        break #==> WHILE YOU WORK WITH COMPUTER VISION PROJECT "
   ]
  },
  {
   "cell_type": "code",
   "execution_count": 108,
   "id": "f61e0853-b4c6-40d8-9d05-1fbc4af81c0d",
   "metadata": {},
   "outputs": [
    {
     "name": "stdout",
     "output_type": "stream",
     "text": [
      "1\n",
      "2\n",
      "3\n",
      "4\n"
     ]
    }
   ],
   "source": [
    "for i in range(1,11):\n",
    "    if i == 5:\n",
    "        break #==> WHILE YOU WORK WITH COMPUTER VISION PROJECT \n",
    "    print(i)"
   ]
  },
  {
   "cell_type": "code",
   "execution_count": 110,
   "id": "6e62f00b-5902-4e3a-80e2-14c0ef835cfa",
   "metadata": {},
   "outputs": [
    {
     "name": "stdout",
     "output_type": "stream",
     "text": [
      "5\n"
     ]
    }
   ],
   "source": [
    "for i in range(1,11):\n",
    "    if i == 5:\n",
    "        break #==> WHILE YOU WORK WITH COMPUTER VISION PROJECT \n",
    "print(i)"
   ]
  },
  {
   "cell_type": "markdown",
   "id": "5bddedb9-9bcf-4ffa-98cd-7cf4fd5b5ca5",
   "metadata": {},
   "source": [
    "# in continue ,  loop wont be terminate"
   ]
  },
  {
   "cell_type": "code",
   "execution_count": 113,
   "id": "e06be8e5-1f6a-4859-aebd-72129dbe2b8c",
   "metadata": {},
   "outputs": [
    {
     "name": "stdout",
     "output_type": "stream",
     "text": [
      "1\n",
      "2\n",
      "3\n",
      "4\n",
      "6\n",
      "7\n",
      "8\n",
      "9\n",
      "10\n"
     ]
    }
   ],
   "source": [
    "for i in range(1,11):\n",
    "    if i == 5:\n",
    "        continue \n",
    "    print(i)"
   ]
  },
  {
   "cell_type": "code",
   "execution_count": 115,
   "id": "254b6df8-bb11-4d38-b4f8-fa690fff4ee1",
   "metadata": {},
   "outputs": [
    {
     "name": "stdout",
     "output_type": "stream",
     "text": [
      "hello  1\n",
      "hello  2\n",
      "hello  3\n",
      "hello  4\n",
      "hello  6\n",
      "hello  7\n",
      "hello  8\n",
      "hello  9\n",
      "hello  10\n"
     ]
    }
   ],
   "source": [
    "for i in range(1,11):\n",
    "    if i == 5:\n",
    "        continue \n",
    "    print('hello ',i)   "
   ]
  },
  {
   "cell_type": "markdown",
   "id": "7418f433-bf00-4c91-bb9a-721b4027bf84",
   "metadata": {},
   "source": [
    "#PASS Statement - pass the code & it wont go"
   ]
  },
  {
   "cell_type": "code",
   "execution_count": 120,
   "id": "91aeb8aa-0b37-4947-9d5f-47e59afc841b",
   "metadata": {},
   "outputs": [],
   "source": [
    "for i in range(1,11):  \n",
    "    pass"
   ]
  },
  {
   "cell_type": "markdown",
   "id": "eae2008a-6c7a-4593-bde5-94f0d77569ec",
   "metadata": {},
   "source": [
    "# PRINTING PATTERN IN PYTHON"
   ]
  },
  {
   "cell_type": "code",
   "execution_count": 123,
   "id": "70fc22a7-681b-4437-aec4-a7e1822aaf10",
   "metadata": {},
   "outputs": [
    {
     "name": "stdout",
     "output_type": "stream",
     "text": [
      "# # # #\n",
      "# # # #\n",
      "# # # #\n",
      "# # # #\n"
     ]
    }
   ],
   "source": [
    "print('# # # #')\n",
    "print('# # # #')\n",
    "print('# # # #')\n",
    "print('# # # #')"
   ]
  },
  {
   "cell_type": "code",
   "execution_count": 125,
   "id": "8fdee1fa-a2b2-4c96-9c79-54ddf7990f2a",
   "metadata": {},
   "outputs": [
    {
     "name": "stdout",
     "output_type": "stream",
     "text": [
      "#  #  #  #  "
     ]
    }
   ],
   "source": [
    "for j in range(4):\n",
    "    print('#', end=\"  \")  "
   ]
  },
  {
   "cell_type": "code",
   "execution_count": 127,
   "id": "33947b24-6334-4c5a-8b89-447ef3f15fd4",
   "metadata": {},
   "outputs": [
    {
     "name": "stdout",
     "output_type": "stream",
     "text": [
      "#  #  #  #  #  #  #  #  "
     ]
    }
   ],
   "source": [
    "for j in range(4):\n",
    "    print('#', end=\"  \")\n",
    "    \n",
    "for j in range(4):\n",
    "    print('#', end=\"  \")"
   ]
  },
  {
   "cell_type": "code",
   "execution_count": 129,
   "id": "6404a98f-45da-4633-8d70-41346e6add14",
   "metadata": {},
   "outputs": [
    {
     "name": "stdout",
     "output_type": "stream",
     "text": [
      "#  #  #  #  \n",
      "#  #  #  #  "
     ]
    }
   ],
   "source": [
    "for j in range(4):\n",
    "    print('#', end=\"  \")\n",
    "    \n",
    "print()\n",
    "\n",
    "for j in range(4):\n",
    "    print('#', end=\"  \")"
   ]
  },
  {
   "cell_type": "code",
   "execution_count": 131,
   "id": "102d89d6-8b35-47d5-b4c1-05c49baeb831",
   "metadata": {},
   "outputs": [
    {
     "name": "stdout",
     "output_type": "stream",
     "text": [
      "#  #  #  #  \n",
      "#  #  #  #  \n",
      "#  #  #  #  \n",
      "#  #  #  #  "
     ]
    }
   ],
   "source": [
    "for j in range(4):\n",
    "    print('#', end=\"  \")\n",
    "    \n",
    "print()\n",
    "\n",
    "for j in range(4):\n",
    "    print('#', end=\"  \")\n",
    "\n",
    "print()\n",
    "\n",
    "for j in range(4):\n",
    "    print('#', end=\"  \")\n",
    "    \n",
    "print()\n",
    "\n",
    "for j in range(4):\n",
    "    print('#', end=\"  \")"
   ]
  },
  {
   "cell_type": "code",
   "execution_count": 133,
   "id": "5a79ffde-32a3-4aa4-90d2-0162d29e900c",
   "metadata": {},
   "outputs": [
    {
     "name": "stdout",
     "output_type": "stream",
     "text": [
      "#  #  #  #  \n",
      "#  #  #  #  \n",
      "#  #  #  #  \n",
      "#  #  #  #  \n"
     ]
    }
   ],
   "source": [
    "for i in range(4):\n",
    "    for j in range(4):\n",
    "        print('#', end=\"  \")\n",
    "    print()\n",
    "    # pease use debug mode"
   ]
  },
  {
   "cell_type": "code",
   "execution_count": 135,
   "id": "bcfd31d1-63c8-443f-93f0-92f7fd635504",
   "metadata": {},
   "outputs": [
    {
     "name": "stdout",
     "output_type": "stream",
     "text": [
      "\n",
      "#  \n",
      "#  #  \n",
      "#  #  #  \n",
      "#  #  #  #  \n"
     ]
    }
   ],
   "source": [
    "for i in range(5):\n",
    "    for j in range(i):\n",
    "        print('#', end=\"  \")\n",
    "    print()"
   ]
  },
  {
   "cell_type": "code",
   "execution_count": 137,
   "id": "ef07e241-60bc-44ff-ad4f-a8810004fcb8",
   "metadata": {},
   "outputs": [
    {
     "name": "stdout",
     "output_type": "stream",
     "text": [
      "#  \n",
      "#  #  \n",
      "#  #  #  \n",
      "#  #  #  #  \n"
     ]
    }
   ],
   "source": [
    "for i in range(4):\n",
    "    for j in range(i+1):\n",
    "        print('#', end=\"  \")\n",
    "    print()"
   ]
  },
  {
   "cell_type": "code",
   "execution_count": 139,
   "id": "3f8b5e0c-3edd-43f2-bcf7-ba25e05eb196",
   "metadata": {},
   "outputs": [
    {
     "name": "stdout",
     "output_type": "stream",
     "text": [
      "*  *  *  *  \n",
      "*  *  *  \n",
      "*  *  \n",
      "*  \n"
     ]
    }
   ],
   "source": [
    "for i in range(4):\n",
    "    for j in range(4-i):\n",
    "        print('*', end=\"  \")\n",
    "    print()"
   ]
  },
  {
   "cell_type": "code",
   "execution_count": 141,
   "id": "1a674c2b-5d50-44fd-a4e2-cb095261a9fe",
   "metadata": {},
   "outputs": [
    {
     "name": "stdout",
     "output_type": "stream",
     "text": [
      "#  #  #  #  \n",
      "#  #  #  \n",
      "#  #  \n",
      "#  \n"
     ]
    }
   ],
   "source": [
    "for i in range(4):\n",
    "    for j in range(4-i):\n",
    "        print('#', end=\"  \")\n",
    "    print()"
   ]
  },
  {
   "cell_type": "markdown",
   "id": "57e52d71-b21b-44e5-bf70-e9bb5dd9865b",
   "metadata": {},
   "source": [
    "# For|Else in python\n",
    "in other language for else not supportable but in python it is supportable\n",
    "eg- lets print the number from 1- 20 & we dont want print number which is divisible by 5"
   ]
  },
  {
   "cell_type": "code",
   "execution_count": 144,
   "id": "2a606aed-745b-423e-8bf4-9d946c9a1393",
   "metadata": {},
   "outputs": [
    {
     "name": "stdout",
     "output_type": "stream",
     "text": [
      "15\n"
     ]
    }
   ],
   "source": [
    "nums = [12,15,18,21,26]\n",
    "\n",
    "for num in nums:\n",
    "    if num % 5 == 0:\n",
    "        print(num) "
   ]
  },
  {
   "cell_type": "code",
   "execution_count": 146,
   "id": "ff71b253-1bd5-4540-92ca-865c2e7ea13e",
   "metadata": {},
   "outputs": [
    {
     "name": "stdout",
     "output_type": "stream",
     "text": [
      "25\n"
     ]
    }
   ],
   "source": [
    "nums = [12,14,18,21,25]\n",
    "for num in nums:\n",
    "    if num % 5 == 0:\n",
    "        print(num)  "
   ]
  },
  {
   "cell_type": "code",
   "execution_count": 148,
   "id": "5e7b18e1-e5c1-4ead-962c-8a42c528ded9",
   "metadata": {},
   "outputs": [
    {
     "name": "stdout",
     "output_type": "stream",
     "text": [
      "25\n",
      "20\n"
     ]
    }
   ],
   "source": [
    "nums = [12,14,18,21,25,20]\n",
    "for num in nums:\n",
    "    if num % 5 == 0:\n",
    "        print(num)  "
   ]
  },
  {
   "cell_type": "code",
   "execution_count": 150,
   "id": "47e533b5-3f87-4690-a834-f2622d0980bc",
   "metadata": {},
   "outputs": [
    {
     "name": "stdout",
     "output_type": "stream",
     "text": [
      "25\n"
     ]
    }
   ],
   "source": [
    "nums = [12,14,18,21,25,20]\n",
    "for num in nums:\n",
    "    if num % 5 == 0:\n",
    "        print(num)  \n",
    "        break"
   ]
  },
  {
   "cell_type": "code",
   "execution_count": 152,
   "id": "df67b44d-0e5b-4635-adfb-640091239121",
   "metadata": {},
   "outputs": [
    {
     "name": "stdout",
     "output_type": "stream",
     "text": [
      "10\n"
     ]
    }
   ],
   "source": [
    "nums = [10,14,18,21,20,25]\n",
    "for num in nums:\n",
    "    if num % 5 == 0:\n",
    "        print(num)  \n",
    "        break #it will print only 1 number then it break  "
   ]
  },
  {
   "cell_type": "code",
   "execution_count": 156,
   "id": "ddebf444-3f0c-4642-a846-dc7a041fa8a2",
   "metadata": {},
   "outputs": [],
   "source": [
    "nums = [7,14,18,21,23,27] #hear there is no number which is divisible by 5 we got output as blank\n",
    "for num in nums:\n",
    "    if num % 5 == 0:\n",
    "        print(num)  \n",
    "       # break"
   ]
  },
  {
   "cell_type": "code",
   "execution_count": 158,
   "id": "f24bf6a4-0522-4b64-99ce-ea5ce654c4ce",
   "metadata": {},
   "outputs": [
    {
     "name": "stdout",
     "output_type": "stream",
     "text": [
      "Number Not Found\n",
      "Number Not Found\n",
      "Number Not Found\n",
      "Number Not Found\n",
      "Number Not Found\n",
      "Number Not Found\n",
      "Number Not Found\n"
     ]
    }
   ],
   "source": [
    "nums = [7,14,18,21,23,27,22] #hear there is no number which is divisible by 5 we got output as blank\n",
    "for num in nums:\n",
    "    if num % 5 == 0:\n",
    "        print(num)  \n",
    "        break\n",
    "    else:\n",
    "        print('Number Not Found') #every iteration it cheking condition"
   ]
  },
  {
   "cell_type": "code",
   "execution_count": 160,
   "id": "a0aff246-1100-4c69-8f7b-ee838257deed",
   "metadata": {},
   "outputs": [
    {
     "name": "stdout",
     "output_type": "stream",
     "text": [
      "Not Found\n"
     ]
    }
   ],
   "source": [
    "nums = [7,14,18,21,23,27] #hear there is no number which is divisible by 5 we got output as blank\n",
    "for num in nums:\n",
    "    if num % 5 == 0:\n",
    "        print(num)  \n",
    "        #break\n",
    "else:\n",
    "        print('Not Found') # hear else we dont write in if block but we can write in for block only"
   ]
  },
  {
   "cell_type": "code",
   "execution_count": 162,
   "id": "d0963da5-da70-4b61-90a5-18b6477ed1c4",
   "metadata": {},
   "outputs": [
    {
     "name": "stdout",
     "output_type": "stream",
     "text": [
      "10\n",
      "20\n",
      "Not Found\n"
     ]
    }
   ],
   "source": [
    "nums = [10,14,18,21,20,27] #hear there is no number which is divisible by 5 we got output as blank\n",
    "for num in nums:\n",
    "    if num % 5 == 0:\n",
    "        print(num)  \n",
    "        #break\n",
    "else:\n",
    "        print('Not Found')"
   ]
  },
  {
   "cell_type": "code",
   "execution_count": 164,
   "id": "bce8270b-2001-4962-8956-c2040e9f065f",
   "metadata": {},
   "outputs": [
    {
     "name": "stdout",
     "output_type": "stream",
     "text": [
      "10\n"
     ]
    }
   ],
   "source": [
    "nums = [10,14,18,21,20,27] #hear there is no number which is divisible by 5 we got output as blank\n",
    "for num in nums:\n",
    "    if num % 5 == 0:\n",
    "        print(num)  \n",
    "        break\n",
    "else:\n",
    "        print('Not Found')"
   ]
  },
  {
   "cell_type": "markdown",
   "id": "410607a2-1c8f-4567-a6d4-dd433a4f3068",
   "metadata": {},
   "source": [
    "# prime number - how to check given number is prime number or not"
   ]
  },
  {
   "cell_type": "code",
   "execution_count": 167,
   "id": "df6fdc78-0e72-462e-85ec-643d783a4702",
   "metadata": {},
   "outputs": [
    {
     "name": "stdout",
     "output_type": "stream",
     "text": [
      "Not prime Number\n"
     ]
    }
   ],
   "source": [
    "num = 12\n",
    "\n",
    "for i in range(2,num):\n",
    "    if num % i == 0:\n",
    "        print('Not prime Number')\n",
    "        break\n",
    "else:\n",
    "    print('Prime Number')"
   ]
  },
  {
   "cell_type": "code",
   "execution_count": 169,
   "id": "9b2c6a42-864d-4ba4-882b-bf9d89b0f215",
   "metadata": {},
   "outputs": [
    {
     "name": "stdout",
     "output_type": "stream",
     "text": [
      "Prime Number\n"
     ]
    }
   ],
   "source": [
    "num = 13\n",
    "\n",
    "for i in range(2,num):\n",
    "    if num % i == 0:\n",
    "        print('Not prime Number')\n",
    "        break\n",
    "else:\n",
    "    print('Prime Number')"
   ]
  },
  {
   "cell_type": "code",
   "execution_count": 171,
   "id": "37be61a8-1bf0-4617-928a-5c581af70c0a",
   "metadata": {},
   "outputs": [
    {
     "name": "stdin",
     "output_type": "stream",
     "text": [
      "Enter the length of the array 5\n",
      "Enter the next value 2\n"
     ]
    },
    {
     "name": "stdout",
     "output_type": "stream",
     "text": [
      "array('i', [2])\n"
     ]
    },
    {
     "name": "stdin",
     "output_type": "stream",
     "text": [
      "Enter the next value 4\n"
     ]
    },
    {
     "name": "stdout",
     "output_type": "stream",
     "text": [
      "array('i', [2, 4])\n"
     ]
    },
    {
     "name": "stdin",
     "output_type": "stream",
     "text": [
      "Enter the next value 5\n"
     ]
    },
    {
     "name": "stdout",
     "output_type": "stream",
     "text": [
      "array('i', [2, 4, 5])\n"
     ]
    },
    {
     "name": "stdin",
     "output_type": "stream",
     "text": [
      "Enter the next value 6\n"
     ]
    },
    {
     "name": "stdout",
     "output_type": "stream",
     "text": [
      "array('i', [2, 4, 5, 6])\n"
     ]
    },
    {
     "name": "stdin",
     "output_type": "stream",
     "text": [
      "Enter the next value 7\n"
     ]
    },
    {
     "name": "stdout",
     "output_type": "stream",
     "text": [
      "array('i', [2, 4, 5, 6, 7])\n"
     ]
    }
   ],
   "source": [
    "from array import * \n",
    "\n",
    "arr = array('i',[])\n",
    "\n",
    "n = int(input('Enter the length of the array'))\n",
    "\n",
    "for i in range(5):\n",
    "    x = int(input('Enter the next value'))\n",
    "    arr.append(x)\n",
    "    print(arr)"
   ]
  },
  {
   "cell_type": "markdown",
   "id": "08854a39-05d8-493e-9687-e33f2e147601",
   "metadata": {},
   "source": [
    "# Way of creating array using numpy"
   ]
  },
  {
   "cell_type": "code",
   "execution_count": 174,
   "id": "f1e6fc6b-5c13-4a6d-bdc6-d4bdf44a640b",
   "metadata": {},
   "outputs": [
    {
     "name": "stdout",
     "output_type": "stream",
     "text": [
      "[1 2 3 4 5]\n"
     ]
    },
    {
     "data": {
      "text/plain": [
       "numpy.ndarray"
      ]
     },
     "execution_count": 174,
     "metadata": {},
     "output_type": "execute_result"
    }
   ],
   "source": [
    "from numpy import *\n",
    "arr = array([1,2,3,4,5])\n",
    "print(arr)\n",
    "type(arr)"
   ]
  },
  {
   "cell_type": "code",
   "execution_count": 176,
   "id": "eaee5055-c6e7-4620-9ff5-cac0a3872c40",
   "metadata": {},
   "outputs": [
    {
     "name": "stdout",
     "output_type": "stream",
     "text": [
      "int32\n"
     ]
    }
   ],
   "source": [
    "print(arr.dtype)"
   ]
  },
  {
   "cell_type": "code",
   "execution_count": 178,
   "id": "23de22c5-4056-425a-906c-03e58b18753b",
   "metadata": {},
   "outputs": [
    {
     "name": "stdout",
     "output_type": "stream",
     "text": [
      "[1.  2.  3.  4.  5.9]\n"
     ]
    }
   ],
   "source": [
    "arr = array([1,2,3,4,5.9])\n",
    "print(arr)"
   ]
  },
  {
   "cell_type": "code",
   "execution_count": 180,
   "id": "5bd6092d-7f5c-4aae-bd4a-5a6b2cb28812",
   "metadata": {},
   "outputs": [
    {
     "name": "stdout",
     "output_type": "stream",
     "text": [
      "float64\n"
     ]
    }
   ],
   "source": [
    "print(arr.dtype)"
   ]
  },
  {
   "cell_type": "code",
   "execution_count": 182,
   "id": "8c5127e8-901f-4715-b875-902e32ec8167",
   "metadata": {},
   "outputs": [
    {
     "data": {
      "text/plain": [
       "array([1. , 2. , 3. , 4. , 5.9])"
      ]
     },
     "execution_count": 182,
     "metadata": {},
     "output_type": "execute_result"
    }
   ],
   "source": [
    "arr2 = array([1,2,3,4,5.9],float)\n",
    "arr2"
   ]
  },
  {
   "cell_type": "code",
   "execution_count": 184,
   "id": "2030c83b-270a-4eab-a676-549ad9b0b512",
   "metadata": {},
   "outputs": [
    {
     "data": {
      "text/plain": [
       "array([1, 2, 3, 4, 5])"
      ]
     },
     "execution_count": 184,
     "metadata": {},
     "output_type": "execute_result"
    }
   ],
   "source": [
    "arr3 = array([1,2,3,4,5.6],int)\n",
    "arr3"
   ]
  },
  {
   "cell_type": "code",
   "execution_count": 186,
   "id": "75bb547d-38f7-4e3c-8a64-4a043fcaa442",
   "metadata": {},
   "outputs": [],
   "source": [
    "import numpy as np"
   ]
  },
  {
   "cell_type": "code",
   "execution_count": 188,
   "id": "8c0f27b7-2f10-4c20-abcb-28774a256970",
   "metadata": {},
   "outputs": [
    {
     "data": {
      "text/plain": [
       "array([ 0.        ,  1.77777778,  3.55555556,  5.33333333,  7.11111111,\n",
       "        8.88888889, 10.66666667, 12.44444444, 14.22222222, 16.        ])"
      ]
     },
     "execution_count": 188,
     "metadata": {},
     "output_type": "execute_result"
    }
   ],
   "source": [
    "arr4 = np.linspace(0, 16, 10) # break the code between 10 spaces between 0 to 16 but why decimal becuase we break into parts thats why it is floats\n",
    "arr4"
   ]
  },
  {
   "cell_type": "code",
   "execution_count": 190,
   "id": "68825e0b-3654-4b07-b36c-293c84f3d89c",
   "metadata": {},
   "outputs": [
    {
     "data": {
      "text/plain": [
       "array([0, 2, 4, 6, 8])"
      ]
     },
     "execution_count": 190,
     "metadata": {},
     "output_type": "execute_result"
    }
   ],
   "source": [
    "arr5 = np.arange(0,10,2) # arange - as range\n",
    "arr5"
   ]
  },
  {
   "cell_type": "code",
   "execution_count": 192,
   "id": "8e34c3cc-fa1b-4443-a8cf-b6f93436a0ab",
   "metadata": {},
   "outputs": [
    {
     "data": {
      "text/plain": [
       "array([0., 0., 0., 0., 0.])"
      ]
     },
     "execution_count": 192,
     "metadata": {},
     "output_type": "execute_result"
    }
   ],
   "source": [
    "arr6 = np.zeros(5)\n",
    "arr6"
   ]
  },
  {
   "cell_type": "code",
   "execution_count": 194,
   "id": "1bc1fbe1-ee6e-4baf-98a1-8dc0fc90f9ec",
   "metadata": {},
   "outputs": [
    {
     "data": {
      "text/plain": [
       "array([1., 1., 1., 1., 1.])"
      ]
     },
     "execution_count": 194,
     "metadata": {},
     "output_type": "execute_result"
    }
   ],
   "source": [
    "arr7 = np.ones(5)\n",
    "arr7"
   ]
  },
  {
   "cell_type": "code",
   "execution_count": null,
   "id": "6274aca0-0d42-4838-9ddb-4ec9bde731be",
   "metadata": {},
   "outputs": [],
   "source": []
  }
 ],
 "metadata": {
  "kernelspec": {
   "display_name": "Python 3 (ipykernel)",
   "language": "python",
   "name": "python3"
  },
  "language_info": {
   "codemirror_mode": {
    "name": "ipython",
    "version": 3
   },
   "file_extension": ".py",
   "mimetype": "text/x-python",
   "name": "python",
   "nbconvert_exporter": "python",
   "pygments_lexer": "ipython3",
   "version": "3.12.4"
  }
 },
 "nbformat": 4,
 "nbformat_minor": 5
}
